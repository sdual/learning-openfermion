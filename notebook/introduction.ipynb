{
 "cells": [
  {
   "cell_type": "code",
   "execution_count": 1,
   "metadata": {
    "collapsed": true
   },
   "outputs": [],
   "source": [
    "import openfermion"
   ]
  },
  {
   "cell_type": "markdown",
   "metadata": {},
   "source": [
    "## Instantization of FermionOperator"
   ]
  },
  {
   "cell_type": "code",
   "execution_count": 2,
   "metadata": {
    "collapsed": true
   },
   "outputs": [],
   "source": [
    "from openfermion.ops import FermionOperator"
   ]
  },
  {
   "cell_type": "code",
   "execution_count": 5,
   "metadata": {},
   "outputs": [],
   "source": [
    "my_term = FermionOperator(((3, 1), (1, 0)))"
   ]
  },
  {
   "cell_type": "code",
   "execution_count": 6,
   "metadata": {},
   "outputs": [
    {
     "name": "stdout",
     "output_type": "stream",
     "text": [
      "1.0 [3^ 1]\n"
     ]
    }
   ],
   "source": [
    "print(my_term)"
   ]
  },
  {
   "cell_type": "code",
   "execution_count": 7,
   "metadata": {
    "collapsed": true
   },
   "outputs": [],
   "source": [
    "my_term2 = FermionOperator('3^ 1')"
   ]
  },
  {
   "cell_type": "code",
   "execution_count": 8,
   "metadata": {},
   "outputs": [
    {
     "name": "stdout",
     "output_type": "stream",
     "text": [
      "1.0 [3^ 1]\n"
     ]
    }
   ],
   "source": [
    "print(my_term2)"
   ]
  },
  {
   "cell_type": "code",
   "execution_count": 9,
   "metadata": {
    "collapsed": true
   },
   "outputs": [],
   "source": [
    "good_way_to_initialize = FermionOperator('3^ 1', -1.7)"
   ]
  },
  {
   "cell_type": "code",
   "execution_count": 10,
   "metadata": {},
   "outputs": [
    {
     "name": "stdout",
     "output_type": "stream",
     "text": [
      "-1.7 [3^ 1]\n"
     ]
    }
   ],
   "source": [
    "print(good_way_to_initialize)"
   ]
  },
  {
   "cell_type": "code",
   "execution_count": 11,
   "metadata": {
    "collapsed": true
   },
   "outputs": [],
   "source": [
    "identity = FermionOperator('')"
   ]
  },
  {
   "cell_type": "code",
   "execution_count": 12,
   "metadata": {},
   "outputs": [
    {
     "name": "stdout",
     "output_type": "stream",
     "text": [
      "1.0 []\n"
     ]
    }
   ],
   "source": [
    "print(identity)"
   ]
  },
  {
   "cell_type": "code",
   "execution_count": 13,
   "metadata": {
    "collapsed": true
   },
   "outputs": [],
   "source": [
    "zero_operator = FermionOperator()"
   ]
  },
  {
   "cell_type": "code",
   "execution_count": 14,
   "metadata": {},
   "outputs": [
    {
     "name": "stdout",
     "output_type": "stream",
     "text": [
      "0\n"
     ]
    }
   ],
   "source": [
    "print(zero_operator)"
   ]
  },
  {
   "cell_type": "code",
   "execution_count": 16,
   "metadata": {},
   "outputs": [],
   "source": [
    "my_operator = FermionOperator('4^ 3 9', 1. + 2.j)"
   ]
  },
  {
   "cell_type": "code",
   "execution_count": 17,
   "metadata": {},
   "outputs": [
    {
     "name": "stdout",
     "output_type": "stream",
     "text": [
      "(1+2j) [4^ 3 9]\n"
     ]
    }
   ],
   "source": [
    "print(my_operator)"
   ]
  },
  {
   "cell_type": "code",
   "execution_count": 18,
   "metadata": {},
   "outputs": [
    {
     "name": "stdout",
     "output_type": "stream",
     "text": [
      "{((4, 1), (3, 0), (9, 0)): (1+2j)}\n"
     ]
    }
   ],
   "source": [
    "print(my_operator.terms)"
   ]
  },
  {
   "cell_type": "markdown",
   "metadata": {},
   "source": [
    "## Fermion Operator data structure"
   ]
  },
  {
   "cell_type": "code",
   "execution_count": 19,
   "metadata": {
    "collapsed": true
   },
   "outputs": [],
   "source": [
    "from openfermion.ops import FermionOperator\n",
    "\n",
    "term_1 = FermionOperator('4^ 3^ 9 1', 1. + 2.j)\n",
    "term_2 = FermionOperator('3^ 1', -1.7)\n",
    "my_operator = term_1 + term_2"
   ]
  },
  {
   "cell_type": "code",
   "execution_count": 20,
   "metadata": {},
   "outputs": [
    {
     "name": "stdout",
     "output_type": "stream",
     "text": [
      "(1+2j) [4^ 3^ 9 1] +\n",
      "-1.7 [3^ 1]\n"
     ]
    }
   ],
   "source": [
    "print(my_operator)"
   ]
  },
  {
   "cell_type": "code",
   "execution_count": 21,
   "metadata": {
    "collapsed": true
   },
   "outputs": [],
   "source": [
    "my_operator = FermionOperator('4^ 3^ 9 1', 1. + 2.j)\n",
    "term_2 = FermionOperator('3^ 1', -1.7)\n",
    "my_operator += term_2"
   ]
  },
  {
   "cell_type": "code",
   "execution_count": 22,
   "metadata": {},
   "outputs": [
    {
     "name": "stdout",
     "output_type": "stream",
     "text": [
      "(1+2j) [4^ 3^ 9 1] +\n",
      "-1.7 [3^ 1]\n"
     ]
    }
   ],
   "source": [
    "print(my_operator)"
   ]
  },
  {
   "cell_type": "code",
   "execution_count": 24,
   "metadata": {},
   "outputs": [
    {
     "name": "stdout",
     "output_type": "stream",
     "text": [
      "(1+2j) [4^ 3^ 9 1] +\n",
      "56.1 [3^ 1]\n"
     ]
    }
   ],
   "source": [
    "term_1 = FermionOperator('4^ 3^ 9 1', 1. + 2.j)\n",
    "term_2 = FermionOperator('3^ 1', -1.7)\n",
    "\n",
    "my_operator = term_1 - 33. * term_2\n",
    "print(my_operator)"
   ]
  },
  {
   "cell_type": "code",
   "execution_count": 27,
   "metadata": {},
   "outputs": [
    {
     "name": "stdout",
     "output_type": "stream",
     "text": [
      "(9.161299999999999+18.322599999999998j) [4^ 3^ 9 1 3^ 1 3^ 1] +\n",
      "(16.166999999999998-21.555999999999997j) [4^ 3^ 9 1 3^ 1 4^ 3^ 9 1] +\n",
      "(16.166999999999998-21.555999999999997j) [4^ 3^ 9 1 4^ 3^ 9 1 3^ 1] +\n",
      "(-34.87-6.34j) [4^ 3^ 9 1 4^ 3^ 9 1 4^ 3^ 9 1] +\n",
      "513.9489299999999 [3^ 1 3^ 1 3^ 1] +\n",
      "(-302.32289999999995-604.6457999999999j) [3^ 1 3^ 1 4^ 3^ 9 1] +\n",
      "(-302.32289999999995-604.6457999999999j) [3^ 1 4^ 3^ 9 1 3^ 1] +\n",
      "(-533.511+711.348j) [3^ 1 4^ 3^ 9 1 4^ 3^ 9 1]\n"
     ]
    }
   ],
   "source": [
    "my_operator *= 3.17 * (term_2 + term_1) ** 2\n",
    "print(my_operator)"
   ]
  },
  {
   "cell_type": "code",
   "execution_count": 28,
   "metadata": {},
   "outputs": [
    {
     "name": "stdout",
     "output_type": "stream",
     "text": [
      "-4.912999999999999 [3^ 1 3^ 1 3^ 1]\n"
     ]
    }
   ],
   "source": [
    "print(term_2 ** 3)"
   ]
  },
  {
   "cell_type": "code",
   "execution_count": 29,
   "metadata": {},
   "outputs": [
    {
     "name": "stdout",
     "output_type": "stream",
     "text": [
      "True\n"
     ]
    }
   ],
   "source": [
    "print(term_1.isclose(2.*term_1 - term_1))"
   ]
  },
  {
   "cell_type": "code",
   "execution_count": 30,
   "metadata": {},
   "outputs": [
    {
     "name": "stdout",
     "output_type": "stream",
     "text": [
      "False\n"
     ]
    }
   ],
   "source": [
    "print(term_1.isclose(my_operator))"
   ]
  },
  {
   "cell_type": "code",
   "execution_count": 31,
   "metadata": {
    "collapsed": true
   },
   "outputs": [],
   "source": [
    "from openfermion.ops import hermitian_conjugated, normal_ordered\n",
    "from openfermion.utils import commutator, count_qubits"
   ]
  },
  {
   "cell_type": "code",
   "execution_count": 32,
   "metadata": {},
   "outputs": [
    {
     "name": "stdout",
     "output_type": "stream",
     "text": [
      "(1-2j) [3 3^ 4]\n"
     ]
    }
   ],
   "source": [
    "term_1 = FermionOperator('4^ 3 3^', 1. + 2.j)\n",
    "print(hermitian_conjugated(term_1))"
   ]
  },
  {
   "cell_type": "code",
   "execution_count": 33,
   "metadata": {},
   "outputs": [
    {
     "name": "stdout",
     "output_type": "stream",
     "text": [
      "False\n"
     ]
    }
   ],
   "source": [
    "print(term_1.is_normal_ordered())"
   ]
  },
  {
   "cell_type": "code",
   "execution_count": 34,
   "metadata": {},
   "outputs": [
    {
     "name": "stdout",
     "output_type": "stream",
     "text": [
      "5\n"
     ]
    }
   ],
   "source": [
    "print(count_qubits(term_1))"
   ]
  },
  {
   "cell_type": "code",
   "execution_count": 35,
   "metadata": {
    "collapsed": true
   },
   "outputs": [],
   "source": [
    "term_2 = normal_ordered(term_1)"
   ]
  },
  {
   "cell_type": "code",
   "execution_count": 36,
   "metadata": {},
   "outputs": [
    {
     "name": "stdout",
     "output_type": "stream",
     "text": [
      "(1+2j) [4^] +\n",
      "(-1-2j) [4^ 3^ 3]\n"
     ]
    }
   ],
   "source": [
    "print(term_2)"
   ]
  },
  {
   "cell_type": "code",
   "execution_count": 37,
   "metadata": {},
   "outputs": [
    {
     "name": "stdout",
     "output_type": "stream",
     "text": [
      "(-3+4j) [4^ 3 3^ 4^] +\n",
      "(3-4j) [4^ 3 3^ 4^ 3^ 3] +\n",
      "(3-4j) [4^ 4^ 3 3^] +\n",
      "(-3+4j) [4^ 3^ 3 4^ 3 3^]\n"
     ]
    }
   ],
   "source": [
    "print(commutator(term_1, term_2))"
   ]
  },
  {
   "cell_type": "markdown",
   "metadata": {},
   "source": [
    "## The QubitOperator"
   ]
  },
  {
   "cell_type": "code",
   "execution_count": 39,
   "metadata": {
    "collapsed": true
   },
   "outputs": [],
   "source": [
    "from openfermion.ops import QubitOperator"
   ]
  },
  {
   "cell_type": "code",
   "execution_count": 40,
   "metadata": {},
   "outputs": [
    {
     "name": "stdout",
     "output_type": "stream",
     "text": [
      "1.0 X1 X2 X3\n"
     ]
    }
   ],
   "source": [
    "my_first_quibit_operator = QubitOperator('X1 X2 X3')\n",
    "print(my_first_quibit_operator)"
   ]
  },
  {
   "cell_type": "code",
   "execution_count": 41,
   "metadata": {},
   "outputs": [
    {
     "name": "stdout",
     "output_type": "stream",
     "text": [
      "{((1, 'X'), (2, 'X'), (3, 'X')): 1.0}\n"
     ]
    }
   ],
   "source": [
    "print(my_first_quibit_operator.terms)"
   ]
  },
  {
   "cell_type": "code",
   "execution_count": 43,
   "metadata": {},
   "outputs": [
    {
     "name": "stdout",
     "output_type": "stream",
     "text": [
      "3.17 X3 Z4 +\n",
      "-77.0 X1 X2 X3\n"
     ]
    }
   ],
   "source": [
    "operator_2 = QubitOperator('X3 Z4', 3.17)\n",
    "operator_2 -= 77. * my_first_quibit_operator\n",
    "print(operator_2)"
   ]
  },
  {
   "cell_type": "code",
   "execution_count": null,
   "metadata": {
    "collapsed": true
   },
   "outputs": [],
   "source": [
    "## Jordan-Wigner "
   ]
  }
 ],
 "metadata": {
  "kernelspec": {
   "display_name": "Python 3",
   "language": "python",
   "name": "python3"
  },
  "language_info": {
   "codemirror_mode": {
    "name": "ipython",
    "version": 3
   },
   "file_extension": ".py",
   "mimetype": "text/x-python",
   "name": "python",
   "nbconvert_exporter": "python",
   "pygments_lexer": "ipython3",
   "version": "3.6.0"
  }
 },
 "nbformat": 4,
 "nbformat_minor": 2
}

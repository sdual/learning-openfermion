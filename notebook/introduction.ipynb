{
 "cells": [
  {
   "cell_type": "code",
   "execution_count": 1,
   "metadata": {
    "collapsed": true
   },
   "outputs": [],
   "source": [
    "import openfermion"
   ]
  },
  {
   "cell_type": "markdown",
   "metadata": {},
   "source": [
    "## Instantization of FermionOperator"
   ]
  },
  {
   "cell_type": "code",
   "execution_count": 2,
   "metadata": {
    "collapsed": true
   },
   "outputs": [],
   "source": [
    "from openfermion.ops import FermionOperator"
   ]
  },
  {
   "cell_type": "code",
   "execution_count": 5,
   "metadata": {},
   "outputs": [],
   "source": [
    "my_term = FermionOperator(((3, 1), (1, 0)))"
   ]
  },
  {
   "cell_type": "code",
   "execution_count": 6,
   "metadata": {},
   "outputs": [
    {
     "name": "stdout",
     "output_type": "stream",
     "text": [
      "1.0 [3^ 1]\n"
     ]
    }
   ],
   "source": [
    "print(my_term)"
   ]
  },
  {
   "cell_type": "code",
   "execution_count": 7,
   "metadata": {
    "collapsed": true
   },
   "outputs": [],
   "source": [
    "my_term2 = FermionOperator('3^ 1')"
   ]
  },
  {
   "cell_type": "code",
   "execution_count": 8,
   "metadata": {},
   "outputs": [
    {
     "name": "stdout",
     "output_type": "stream",
     "text": [
      "1.0 [3^ 1]\n"
     ]
    }
   ],
   "source": [
    "print(my_term2)"
   ]
  },
  {
   "cell_type": "code",
   "execution_count": 9,
   "metadata": {
    "collapsed": true
   },
   "outputs": [],
   "source": [
    "good_way_to_initialize = FermionOperator('3^ 1', -1.7)"
   ]
  },
  {
   "cell_type": "code",
   "execution_count": 10,
   "metadata": {},
   "outputs": [
    {
     "name": "stdout",
     "output_type": "stream",
     "text": [
      "-1.7 [3^ 1]\n"
     ]
    }
   ],
   "source": [
    "print(good_way_to_initialize)"
   ]
  },
  {
   "cell_type": "code",
   "execution_count": 11,
   "metadata": {
    "collapsed": true
   },
   "outputs": [],
   "source": [
    "identity = FermionOperator('')"
   ]
  },
  {
   "cell_type": "code",
   "execution_count": 12,
   "metadata": {},
   "outputs": [
    {
     "name": "stdout",
     "output_type": "stream",
     "text": [
      "1.0 []\n"
     ]
    }
   ],
   "source": [
    "print(identity)"
   ]
  },
  {
   "cell_type": "code",
   "execution_count": 13,
   "metadata": {
    "collapsed": true
   },
   "outputs": [],
   "source": [
    "zero_operator = FermionOperator()"
   ]
  },
  {
   "cell_type": "code",
   "execution_count": 14,
   "metadata": {},
   "outputs": [
    {
     "name": "stdout",
     "output_type": "stream",
     "text": [
      "0\n"
     ]
    }
   ],
   "source": [
    "print(zero_operator)"
   ]
  },
  {
   "cell_type": "code",
   "execution_count": 16,
   "metadata": {},
   "outputs": [],
   "source": [
    "my_operator = FermionOperator('4^ 3 9', 1. + 2.j)"
   ]
  },
  {
   "cell_type": "code",
   "execution_count": 17,
   "metadata": {},
   "outputs": [
    {
     "name": "stdout",
     "output_type": "stream",
     "text": [
      "(1+2j) [4^ 3 9]\n"
     ]
    }
   ],
   "source": [
    "print(my_operator)"
   ]
  },
  {
   "cell_type": "code",
   "execution_count": 18,
   "metadata": {},
   "outputs": [
    {
     "name": "stdout",
     "output_type": "stream",
     "text": [
      "{((4, 1), (3, 0), (9, 0)): (1+2j)}\n"
     ]
    }
   ],
   "source": [
    "print(my_operator.terms)"
   ]
  },
  {
   "cell_type": "markdown",
   "metadata": {},
   "source": [
    "## Fermion Operator data structure"
   ]
  },
  {
   "cell_type": "code",
   "execution_count": 19,
   "metadata": {
    "collapsed": true
   },
   "outputs": [],
   "source": [
    "from openfermion.ops import FermionOperator\n",
    "\n",
    "term_1 = FermionOperator('4^ 3^ 9 1', 1. + 2.j)\n",
    "term_2 = FermionOperator('3^ 1', -1.7)\n",
    "my_operator = term_1 + term_2"
   ]
  },
  {
   "cell_type": "code",
   "execution_count": 20,
   "metadata": {},
   "outputs": [
    {
     "name": "stdout",
     "output_type": "stream",
     "text": [
      "(1+2j) [4^ 3^ 9 1] +\n",
      "-1.7 [3^ 1]\n"
     ]
    }
   ],
   "source": [
    "print(my_operator)"
   ]
  },
  {
   "cell_type": "code",
   "execution_count": 21,
   "metadata": {
    "collapsed": true
   },
   "outputs": [],
   "source": [
    "my_operator = FermionOperator('4^ 3^ 9 1', 1. + 2.j)\n",
    "term_2 = FermionOperator('3^ 1', -1.7)\n",
    "my_operator += term_2"
   ]
  },
  {
   "cell_type": "code",
   "execution_count": 22,
   "metadata": {},
   "outputs": [
    {
     "name": "stdout",
     "output_type": "stream",
     "text": [
      "(1+2j) [4^ 3^ 9 1] +\n",
      "-1.7 [3^ 1]\n"
     ]
    }
   ],
   "source": [
    "print(my_operator)"
   ]
  },
  {
   "cell_type": "code",
   "execution_count": 24,
   "metadata": {},
   "outputs": [
    {
     "name": "stdout",
     "output_type": "stream",
     "text": [
      "(1+2j) [4^ 3^ 9 1] +\n",
      "56.1 [3^ 1]\n"
     ]
    }
   ],
   "source": [
    "term_1 = FermionOperator('4^ 3^ 9 1', 1. + 2.j)\n",
    "term_2 = FermionOperator('3^ 1', -1.7)\n",
    "\n",
    "my_operator = term_1 - 33. * term_2\n",
    "print(my_operator)"
   ]
  },
  {
   "cell_type": "code",
   "execution_count": 27,
   "metadata": {},
   "outputs": [
    {
     "name": "stdout",
     "output_type": "stream",
     "text": [
      "(9.161299999999999+18.322599999999998j) [4^ 3^ 9 1 3^ 1 3^ 1] +\n",
      "(16.166999999999998-21.555999999999997j) [4^ 3^ 9 1 3^ 1 4^ 3^ 9 1] +\n",
      "(16.166999999999998-21.555999999999997j) [4^ 3^ 9 1 4^ 3^ 9 1 3^ 1] +\n",
      "(-34.87-6.34j) [4^ 3^ 9 1 4^ 3^ 9 1 4^ 3^ 9 1] +\n",
      "513.9489299999999 [3^ 1 3^ 1 3^ 1] +\n",
      "(-302.32289999999995-604.6457999999999j) [3^ 1 3^ 1 4^ 3^ 9 1] +\n",
      "(-302.32289999999995-604.6457999999999j) [3^ 1 4^ 3^ 9 1 3^ 1] +\n",
      "(-533.511+711.348j) [3^ 1 4^ 3^ 9 1 4^ 3^ 9 1]\n"
     ]
    }
   ],
   "source": [
    "my_operator *= 3.17 * (term_2 + term_1) ** 2\n",
    "print(my_operator)"
   ]
  },
  {
   "cell_type": "code",
   "execution_count": 28,
   "metadata": {},
   "outputs": [
    {
     "name": "stdout",
     "output_type": "stream",
     "text": [
      "-4.912999999999999 [3^ 1 3^ 1 3^ 1]\n"
     ]
    }
   ],
   "source": [
    "print(term_2 ** 3)"
   ]
  },
  {
   "cell_type": "code",
   "execution_count": 29,
   "metadata": {},
   "outputs": [
    {
     "name": "stdout",
     "output_type": "stream",
     "text": [
      "True\n"
     ]
    }
   ],
   "source": [
    "print(term_1.isclose(2.*term_1 - term_1))"
   ]
  },
  {
   "cell_type": "code",
   "execution_count": 30,
   "metadata": {},
   "outputs": [
    {
     "name": "stdout",
     "output_type": "stream",
     "text": [
      "False\n"
     ]
    }
   ],
   "source": [
    "print(term_1.isclose(my_operator))"
   ]
  },
  {
   "cell_type": "code",
   "execution_count": 31,
   "metadata": {
    "collapsed": true
   },
   "outputs": [],
   "source": [
    "from openfermion.ops import hermitian_conjugated, normal_ordered\n",
    "from openfermion.utils import commutator, count_qubits"
   ]
  },
  {
   "cell_type": "code",
   "execution_count": 32,
   "metadata": {},
   "outputs": [
    {
     "name": "stdout",
     "output_type": "stream",
     "text": [
      "(1-2j) [3 3^ 4]\n"
     ]
    }
   ],
   "source": [
    "term_1 = FermionOperator('4^ 3 3^', 1. + 2.j)\n",
    "print(hermitian_conjugated(term_1))"
   ]
  },
  {
   "cell_type": "code",
   "execution_count": 33,
   "metadata": {},
   "outputs": [
    {
     "name": "stdout",
     "output_type": "stream",
     "text": [
      "False\n"
     ]
    }
   ],
   "source": [
    "print(term_1.is_normal_ordered())"
   ]
  },
  {
   "cell_type": "code",
   "execution_count": 34,
   "metadata": {},
   "outputs": [
    {
     "name": "stdout",
     "output_type": "stream",
     "text": [
      "5\n"
     ]
    }
   ],
   "source": [
    "print(count_qubits(term_1))"
   ]
  },
  {
   "cell_type": "code",
   "execution_count": 35,
   "metadata": {
    "collapsed": true
   },
   "outputs": [],
   "source": [
    "term_2 = normal_ordered(term_1)"
   ]
  },
  {
   "cell_type": "code",
   "execution_count": 36,
   "metadata": {},
   "outputs": [
    {
     "name": "stdout",
     "output_type": "stream",
     "text": [
      "(1+2j) [4^] +\n",
      "(-1-2j) [4^ 3^ 3]\n"
     ]
    }
   ],
   "source": [
    "print(term_2)"
   ]
  },
  {
   "cell_type": "code",
   "execution_count": 37,
   "metadata": {},
   "outputs": [
    {
     "name": "stdout",
     "output_type": "stream",
     "text": [
      "(-3+4j) [4^ 3 3^ 4^] +\n",
      "(3-4j) [4^ 3 3^ 4^ 3^ 3] +\n",
      "(3-4j) [4^ 4^ 3 3^] +\n",
      "(-3+4j) [4^ 3^ 3 4^ 3 3^]\n"
     ]
    }
   ],
   "source": [
    "print(commutator(term_1, term_2))"
   ]
  },
  {
   "cell_type": "markdown",
   "metadata": {},
   "source": [
    "## The QubitOperator"
   ]
  },
  {
   "cell_type": "code",
   "execution_count": 39,
   "metadata": {
    "collapsed": true
   },
   "outputs": [],
   "source": [
    "from openfermion.ops import QubitOperator"
   ]
  },
  {
   "cell_type": "code",
   "execution_count": 40,
   "metadata": {},
   "outputs": [
    {
     "name": "stdout",
     "output_type": "stream",
     "text": [
      "1.0 X1 X2 X3\n"
     ]
    }
   ],
   "source": [
    "my_first_quibit_operator = QubitOperator('X1 X2 X3')\n",
    "print(my_first_quibit_operator)"
   ]
  },
  {
   "cell_type": "code",
   "execution_count": 41,
   "metadata": {},
   "outputs": [
    {
     "name": "stdout",
     "output_type": "stream",
     "text": [
      "{((1, 'X'), (2, 'X'), (3, 'X')): 1.0}\n"
     ]
    }
   ],
   "source": [
    "print(my_first_quibit_operator.terms)"
   ]
  },
  {
   "cell_type": "code",
   "execution_count": 43,
   "metadata": {},
   "outputs": [
    {
     "name": "stdout",
     "output_type": "stream",
     "text": [
      "3.17 X3 Z4 +\n",
      "-77.0 X1 X2 X3\n"
     ]
    }
   ],
   "source": [
    "operator_2 = QubitOperator('X3 Z4', 3.17)\n",
    "operator_2 -= 77. * my_first_quibit_operator\n",
    "print(operator_2)"
   ]
  },
  {
   "cell_type": "markdown",
   "metadata": {},
   "source": [
    "## Jordan-Wigner and Bravyi-Kitaev"
   ]
  },
  {
   "cell_type": "code",
   "execution_count": 44,
   "metadata": {
    "collapsed": true
   },
   "outputs": [],
   "source": [
    "from openfermion.ops import FermionOperator, hermitian_conjugated\n",
    "from openfermion.transforms import jordan_wigner, bravyi_kitaev\n",
    "from openfermion.utils import eigenspectrum"
   ]
  },
  {
   "cell_type": "code",
   "execution_count": 46,
   "metadata": {},
   "outputs": [
    {
     "name": "stdout",
     "output_type": "stream",
     "text": [
      "3.17 [2^ 0] +\n",
      "3.17 [0^ 2]\n"
     ]
    }
   ],
   "source": [
    "# Initializa an operator.\n",
    "fermion_operator = FermionOperator('2^ 0', 3.17)\n",
    "fermion_operator += hermitian_conjugated(fermion_operator)\n",
    "print(fermion_operator)"
   ]
  },
  {
   "cell_type": "code",
   "execution_count": 47,
   "metadata": {},
   "outputs": [
    {
     "name": "stdout",
     "output_type": "stream",
     "text": [
      "(1.585+0j) X0 Z1 X2 +\n",
      "(1.585+0j) Y0 Z1 Y2\n"
     ]
    }
   ],
   "source": [
    "# Tranform to qubits under the Jordan-Wigner tranformation and print its spectrum.\n",
    "jw_operator = jordan_wigner(fermion_operator)\n",
    "print(jw_operator)"
   ]
  },
  {
   "cell_type": "code",
   "execution_count": 48,
   "metadata": {},
   "outputs": [
    {
     "name": "stdout",
     "output_type": "stream",
     "text": [
      "[-3.17 -3.17  0.    0.    0.    0.    3.17  3.17]\n"
     ]
    }
   ],
   "source": [
    "jw_spectrum = eigenspectrum(jw_operator)\n",
    "print(jw_spectrum)"
   ]
  },
  {
   "cell_type": "code",
   "execution_count": 50,
   "metadata": {},
   "outputs": [
    {
     "name": "stdout",
     "output_type": "stream",
     "text": [
      "(-1.585+0j) Y0 Y1 +\n",
      "(-1.585+0j) X0 X1 Z2\n"
     ]
    }
   ],
   "source": [
    "# Tranform to qubits under the Bravyi-Kitaev tranformation and print its spectrum.\n",
    "bk_operator = bravyi_kitaev(fermion_operator)\n",
    "print(bk_operator)"
   ]
  },
  {
   "cell_type": "code",
   "execution_count": 51,
   "metadata": {},
   "outputs": [
    {
     "name": "stdout",
     "output_type": "stream",
     "text": [
      "[-3.17 -3.17  0.    0.    0.    0.    3.17  3.17]\n"
     ]
    }
   ],
   "source": [
    "bk_spectrum = eigenspectrum(bk_operator)\n",
    "print(bk_spectrum)"
   ]
  },
  {
   "cell_type": "markdown",
   "metadata": {},
   "source": [
    "## Hubbard model"
   ]
  },
  {
   "cell_type": "code",
   "execution_count": 52,
   "metadata": {
    "collapsed": true
   },
   "outputs": [],
   "source": [
    "from openfermion.hamiltonians import fermi_hubbard\n",
    "from openfermion.transforms import get_sparse_operator, jordan_wigner\n",
    "from openfermion.utils import get_ground_state"
   ]
  },
  {
   "cell_type": "code",
   "execution_count": 53,
   "metadata": {
    "collapsed": true
   },
   "outputs": [],
   "source": [
    "x_dimension = 2\n",
    "y_dimension = 2\n",
    "tunneling = 2.\n",
    "coulomb = 1.\n",
    "magnetic_field = 0.5\n",
    "chemical_potential = 0.25\n",
    "periodic = 1\n",
    "spinless = 1"
   ]
  },
  {
   "cell_type": "code",
   "execution_count": 54,
   "metadata": {},
   "outputs": [
    {
     "name": "stdout",
     "output_type": "stream",
     "text": [
      "-0.25 [0^ 0] +\n",
      "1.0 [0^ 0 1^ 1] +\n",
      "-0.25 [1^ 1] +\n",
      "-2.0 [0^ 1] +\n",
      "-2.0 [1^ 0] +\n",
      "1.0 [0^ 0 2^ 2] +\n",
      "0.25 [2^ 2] +\n",
      "-2.0 [0^ 2] +\n",
      "-2.0 [2^ 0] +\n",
      "1.0 [1^ 1 3^ 3] +\n",
      "-2.0 [1^ 3] +\n",
      "-2.0 [3^ 1] +\n",
      "1.0 [2^ 2 3^ 3] +\n",
      "0.0 [] +\n",
      "-2.0 [2^ 3] +\n",
      "-2.0 [3^ 2] +\n",
      "0.25 [3^ 3]\n"
     ]
    }
   ],
   "source": [
    "hubbard_model = fermi_hubbard(\n",
    "    x_dimension, y_dimension, tunneling, coulomb, chemical_potential,\n",
    "    magnetic_field, periodic, spinless\n",
    ")\n",
    "print(hubbard_model)"
   ]
  },
  {
   "cell_type": "code",
   "execution_count": 55,
   "metadata": {},
   "outputs": [
    {
     "name": "stdout",
     "output_type": "stream",
     "text": [
      "-0.375 Z0 +\n",
      "-0.375 Z1 +\n",
      "0.25 Z0 Z1 +\n",
      "-1.0 Y0 Y1 +\n",
      "-1.0 X0 X1 +\n",
      "1.0 I +\n",
      "-0.625 Z2 +\n",
      "0.25 Z0 Z2 +\n",
      "-1.0 Y0 Z1 Y2 +\n",
      "-1.0 X0 Z1 X2 +\n",
      "-0.625 Z3 +\n",
      "0.25 Z1 Z3 +\n",
      "-1.0 Y1 Z2 Y3 +\n",
      "-1.0 X1 Z2 X3 +\n",
      "0.25 Z2 Z3 +\n",
      "-1.0 Y2 Y3 +\n",
      "-1.0 X2 X3\n"
     ]
    }
   ],
   "source": [
    "jw_hamiltonian = jordan_wigner(hubbard_model)\n",
    "jw_hamiltonian.compress()\n",
    "print(jw_hamiltonian)"
   ]
  },
  {
   "cell_type": "code",
   "execution_count": 57,
   "metadata": {},
   "outputs": [
    {
     "name": "stdout",
     "output_type": "stream",
     "text": [
      "  (1, 1)\t(0.25+0j)\n",
      "  (2, 1)\t(-2+0j)\n",
      "  (4, 1)\t(-2+0j)\n",
      "  (1, 2)\t(-2+0j)\n",
      "  (2, 2)\t(0.25+0j)\n",
      "  (8, 2)\t(-2+0j)\n",
      "  (3, 3)\t(1.5+0j)\n",
      "  (6, 3)\t(2+0j)\n",
      "  (9, 3)\t(-2+0j)\n",
      "  (1, 4)\t(-2+0j)\n",
      "  (4, 4)\t(-0.25+0j)\n",
      "  (8, 4)\t(-2+0j)\n",
      "  (5, 5)\t(1+0j)\n",
      "  (6, 5)\t(-2+0j)\n",
      "  (9, 5)\t(-2+0j)\n",
      "  (3, 6)\t(2+0j)\n",
      "  (5, 6)\t(-2+0j)\n",
      "  (10, 6)\t(-2+0j)\n",
      "  (12, 6)\t(2+0j)\n",
      "  (7, 7)\t(2.25+0j)\n",
      "  (11, 7)\t(-2+0j)\n",
      "  (13, 7)\t(2+0j)\n",
      "  (2, 8)\t(-2+0j)\n",
      "  (4, 8)\t(-2+0j)\n",
      "  (8, 8)\t(-0.25+0j)\n",
      "  (3, 9)\t(-2+0j)\n",
      "  (5, 9)\t(-2+0j)\n",
      "  (10, 9)\t(-2+0j)\n",
      "  (12, 9)\t(-2+0j)\n",
      "  (6, 10)\t(-2+0j)\n",
      "  (9, 10)\t(-2+0j)\n",
      "  (10, 10)\t(1+0j)\n",
      "  (7, 11)\t(-2+0j)\n",
      "  (11, 11)\t(2.25+0j)\n",
      "  (14, 11)\t(2+0j)\n",
      "  (6, 12)\t(2+0j)\n",
      "  (9, 12)\t(-2+0j)\n",
      "  (12, 12)\t(0.5+0j)\n",
      "  (7, 13)\t(2+0j)\n",
      "  (13, 13)\t(1.75+0j)\n",
      "  (14, 13)\t(-2+0j)\n",
      "  (11, 14)\t(2+0j)\n",
      "  (13, 14)\t(-2+0j)\n",
      "  (14, 14)\t(1.75+0j)\n",
      "  (15, 15)\t(4+0j)\n",
      "\n",
      "Energy of the model is -4.015564437074634 in units of T and J.\n"
     ]
    }
   ],
   "source": [
    "sparse_operator = get_sparse_operator(hubbard_model)\n",
    "print(sparse_operator)\n",
    "print('\\nEnergy of the model is {} in units of T and J.'.format(\n",
    "    get_ground_state(sparse_operator)[0]))"
   ]
  },
  {
   "cell_type": "markdown",
   "metadata": {},
   "source": [
    "## Hamiltonians in the plane wave basis"
   ]
  },
  {
   "cell_type": "code",
   "execution_count": 58,
   "metadata": {
    "collapsed": true
   },
   "outputs": [],
   "source": [
    "from openfermion.hamiltonians import jellium_model\n",
    "from openfermion.utils import eigenspectrum, fourier_transform, Grid\n",
    "from openfermion.transforms import jordan_wigner"
   ]
  },
  {
   "cell_type": "code",
   "execution_count": 59,
   "metadata": {
    "collapsed": true
   },
   "outputs": [],
   "source": [
    "grid = Grid(dimensions=1, length=3, scale=1.0)\n",
    "spinless = True"
   ]
  },
  {
   "cell_type": "code",
   "execution_count": 61,
   "metadata": {
    "collapsed": true
   },
   "outputs": [],
   "source": [
    "momentum_hamiltonian = jellium_model(grid, spinless)\n",
    "momentum_qubit_operator = jordan_wigner(momentum_hamiltonian)\n",
    "momentum_qubit_operator.compress()"
   ]
  },
  {
   "cell_type": "code",
   "execution_count": 62,
   "metadata": {},
   "outputs": [
    {
     "name": "stdout",
     "output_type": "stream",
     "text": [
      "19.50047638754088 I +\n",
      "-9.71044945799746 Z0 +\n",
      "0.15915494309189535 Z1 +\n",
      "-9.71044945799746 Z2 +\n",
      "-0.07957747154594767 Z0 Z1 +\n",
      "-0.07957747154594767 Z1 Z2 +\n",
      "-0.07957747154594767 Z0 Z2\n"
     ]
    }
   ],
   "source": [
    "print(momentum_qubit_operator)"
   ]
  },
  {
   "cell_type": "code",
   "execution_count": 63,
   "metadata": {},
   "outputs": [
    {
     "name": "stdout",
     "output_type": "stream",
     "text": [
      "19.500476387540857 I +\n",
      "-6.42058132430101 Z0 +\n",
      "-3.289868133696451 Y0 Y1 +\n",
      "-3.289868133696451 X0 X1 +\n",
      "-3.2898681336964564 Y0 Z1 Y2 +\n",
      "-3.2898681336964564 X0 Z1 X2 +\n",
      "-6.4205813243010095 Z1 +\n",
      "-3.289868133696451 Y1 Y2 +\n",
      "-3.289868133696451 X1 X2 +\n",
      "-6.42058132430101 Z2 +\n",
      "-0.07957747154594766 Z0 Z1 +\n",
      "-0.07957747154594767 Z0 Z2 +\n",
      "-0.07957747154594766 Z1 Z2\n"
     ]
    }
   ],
   "source": [
    "position_hamiltonian = fourier_transform(momentum_hamiltonian, grid, spinless)\n",
    "position_qubit_operator = jordan_wigner(position_hamiltonian)\n",
    "position_qubit_operator.compress()\n",
    "print(position_qubit_operator)"
   ]
  },
  {
   "cell_type": "code",
   "execution_count": 64,
   "metadata": {},
   "outputs": [
    {
     "name": "stdout",
     "output_type": "stream",
     "text": [
      "[  2.48689958e-14   3.01980663e-14   3.19744231e-14   1.77635684e-14\n",
      "   3.19744231e-14   1.77635684e-14   1.42108547e-14   2.13162821e-14]\n"
     ]
    }
   ],
   "source": [
    "spectral_difference = eigenspectrum(momentum_qubit_operator) - eigenspectrum(position_qubit_operator)\n",
    "print(spectral_difference)"
   ]
  },
  {
   "cell_type": "code",
   "execution_count": null,
   "metadata": {
    "collapsed": true
   },
   "outputs": [],
   "source": []
  }
 ],
 "metadata": {
  "kernelspec": {
   "display_name": "Python 3",
   "language": "python",
   "name": "python3"
  },
  "language_info": {
   "codemirror_mode": {
    "name": "ipython",
    "version": 3
   },
   "file_extension": ".py",
   "mimetype": "text/x-python",
   "name": "python",
   "nbconvert_exporter": "python",
   "pygments_lexer": "ipython3",
   "version": "3.6.0"
  }
 },
 "nbformat": 4,
 "nbformat_minor": 2
}
